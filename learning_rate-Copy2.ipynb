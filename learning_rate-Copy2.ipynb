{
 "cells": [
  {
   "cell_type": "code",
   "execution_count": 18,
   "metadata": {},
   "outputs": [],
   "source": [
    "import numpy as np\n",
    "\n",
    "#import keras\n",
    "#import keras.backend as K\n",
    "from keras.datasets import cifar10\n",
    "from keras.models import Model\n",
    "from keras.layers import Input\n",
    "from keras.layers import Dense, Flatten\n",
    "from keras.layers import Conv2D, MaxPooling2D\n",
    "from keras.layers import Dropout\n",
    "from keras.optimizers import SGD\n",
    "from keras.preprocessing.image import ImageDataGenerator\n",
    "from keras.utils import np_utils\n",
    "import math\n",
    "from keras.callbacks import LearningRateScheduler"
   ]
  },
  {
   "cell_type": "code",
   "execution_count": 19,
   "metadata": {
    "collapsed": true
   },
   "outputs": [],
   "source": [
    "batch_size = 32 \n",
    "num_classes = 10\n",
    "epochs = 10\n",
    "\n",
    "(x_train, y_train), (x_test, y_test) = cifar10.load_data() \n",
    "\n",
    "y_train = np_utils.to_categorical(y_train, num_classes)\n",
    "y_test = np_utils.to_categorical(y_test, num_classes)\n",
    "x_train = x_train.astype('float32')\n",
    "x_test = x_test.astype('float32')"
   ]
  },
  {
   "cell_type": "code",
   "execution_count": 20,
   "metadata": {
    "collapsed": true
   },
   "outputs": [],
   "source": [
    "train_datagen = ImageDataGenerator(\n",
    "        rescale=1./255,\n",
    "        shear_range=0.2,\n",
    "        zoom_range=0.2,\n",
    "        horizontal_flip=True)\n",
    "train_generator = train_datagen.flow(\n",
    "        x_train,\n",
    "        y_train,        \n",
    "        batch_size=batch_size)\n",
    "\n",
    "test_datagen = ImageDataGenerator(rescale=1./255)\n",
    "validation_generator = test_datagen.flow(\n",
    "        x_test,\n",
    "        y_test,        \n",
    "        batch_size=batch_size)"
   ]
  },
  {
   "cell_type": "code",
   "execution_count": 26,
   "metadata": {
    "collapsed": true
   },
   "outputs": [],
   "source": [
    "def build_model():\n",
    "    net_input = Input(shape=x_train.shape[1:])\n",
    "    \n",
    "    net = Conv2D(32, (3, 3), padding='same', activation='relu')(net_input)\n",
    "    net = Dropout(0.2)(net)\n",
    "    \n",
    "    net = Conv2D(32,(3,3),padding='same', activation='relu')(net)\n",
    "    net = MaxPooling2D(pool_size=(2,2))(net)\n",
    " \n",
    "    net = Conv2D(64,(3,3),padding='same',activation='relu')(net)\n",
    "    net = Dropout(0.2)(net)\n",
    " \n",
    "    net = Conv2D(64,(3,3),padding='same',activation='relu')(net)\n",
    "    net = MaxPooling2D(pool_size=(2,2))(net)\n",
    " \n",
    "    net = Conv2D(128,(3,3),padding='same',activation='relu')(net)\n",
    "    net = Dropout(0.2)(net)\n",
    " \n",
    "    net = Conv2D(128,(3,3),padding='same',activation='relu')(net)\n",
    "    net = MaxPooling2D(pool_size=(2,2))(net)\n",
    "    \n",
    "    net = Flatten(name='flatten')(net) \n",
    "    net = Dense(1024, activation='relu')(net)\n",
    "    net = Dense(512, activation='relu')(net)\n",
    "    net = Dense(256, activation='relu')(net)\n",
    "    softmax_output = Dense(num_classes, activation='softmax')(net)\n",
    "\n",
    "    model = Model(net_input, softmax_output)\n",
    "    \n",
    "    model.compile(optimizer=SGD(lr=0.0, momentum=0.9, nesterov=True, decay=0.0), loss='categorical_crossentropy', metrics=['accuracy'])\n",
    "    \n",
    "    return model"
   ]
  },
  {
   "cell_type": "code",
   "execution_count": 31,
   "metadata": {
    "collapsed": true
   },
   "outputs": [],
   "source": [
    "\n",
    "def decay_drop(epcoh):\n",
    "    initial_lrate =0.01\n",
    "    drop = 0.1\n",
    "    epoch_drop = 5.0\n",
    "    lrate = initial_lrate*math.pow(drop, math.floor((1+epochs)/epoch_drop))\n",
    "    return lrate"
   ]
  },
  {
   "cell_type": "code",
   "execution_count": 32,
   "metadata": {},
   "outputs": [],
   "source": [
    "lrate = LearningRateScheduler(decay_drop)"
   ]
  },
  {
   "cell_type": "code",
   "execution_count": 33,
   "metadata": {},
   "outputs": [],
   "source": [
    "\n",
    "lrate = LearningRateScheduler(decay_drop)\n",
    "callbacks_list = [lrate]"
   ]
  },
  {
   "cell_type": "code",
   "execution_count": 34,
   "metadata": {},
   "outputs": [
    {
     "name": "stdout",
     "output_type": "stream",
     "text": [
      "_________________________________________________________________\n",
      "Layer (type)                 Output Shape              Param #   \n",
      "=================================================================\n",
      "input_6 (InputLayer)         (None, 32, 32, 3)         0         \n",
      "_________________________________________________________________\n",
      "conv2d_31 (Conv2D)           (None, 32, 32, 32)        896       \n",
      "_________________________________________________________________\n",
      "dropout_16 (Dropout)         (None, 32, 32, 32)        0         \n",
      "_________________________________________________________________\n",
      "conv2d_32 (Conv2D)           (None, 32, 32, 32)        9248      \n",
      "_________________________________________________________________\n",
      "max_pooling2d_16 (MaxPooling (None, 16, 16, 32)        0         \n",
      "_________________________________________________________________\n",
      "conv2d_33 (Conv2D)           (None, 16, 16, 64)        18496     \n",
      "_________________________________________________________________\n",
      "dropout_17 (Dropout)         (None, 16, 16, 64)        0         \n",
      "_________________________________________________________________\n",
      "conv2d_34 (Conv2D)           (None, 16, 16, 64)        36928     \n",
      "_________________________________________________________________\n",
      "max_pooling2d_17 (MaxPooling (None, 8, 8, 64)          0         \n",
      "_________________________________________________________________\n",
      "conv2d_35 (Conv2D)           (None, 8, 8, 128)         73856     \n",
      "_________________________________________________________________\n",
      "dropout_18 (Dropout)         (None, 8, 8, 128)         0         \n",
      "_________________________________________________________________\n",
      "conv2d_36 (Conv2D)           (None, 8, 8, 128)         147584    \n",
      "_________________________________________________________________\n",
      "max_pooling2d_18 (MaxPooling (None, 4, 4, 128)         0         \n",
      "_________________________________________________________________\n",
      "flatten (Flatten)            (None, 2048)              0         \n",
      "_________________________________________________________________\n",
      "dense_21 (Dense)             (None, 1024)              2098176   \n",
      "_________________________________________________________________\n",
      "dense_22 (Dense)             (None, 512)               524800    \n",
      "_________________________________________________________________\n",
      "dense_23 (Dense)             (None, 256)               131328    \n",
      "_________________________________________________________________\n",
      "dense_24 (Dense)             (None, 10)                2570      \n",
      "=================================================================\n",
      "Total params: 3,043,882\n",
      "Trainable params: 3,043,882\n",
      "Non-trainable params: 0\n",
      "_________________________________________________________________\n",
      "None\n",
      "Epoch 1/10\n",
      "1562/1562 [==============================] - 686s 439ms/step - loss: 2.2949 - acc: 0.1203 - val_loss: 2.2924 - val_acc: 0.1251\n",
      "Epoch 2/10\n",
      "1562/1562 [==============================] - 747s 478ms/step - loss: 2.2409 - acc: 0.1513 - val_loss: 2.2180 - val_acc: 0.1930\n",
      "Epoch 3/10\n",
      "1562/1562 [==============================] - 678s 434ms/step - loss: 2.1545 - acc: 0.2042 - val_loss: 2.1620 - val_acc: 0.2527\n",
      "Epoch 4/10\n",
      "1562/1562 [==============================] - 675s 432ms/step - loss: 2.0796 - acc: 0.2478 - val_loss: 2.0656 - val_acc: 0.2763\n",
      "Epoch 5/10\n",
      "1562/1562 [==============================] - 697s 446ms/step - loss: 1.9579 - acc: 0.2948 - val_loss: 1.9402 - val_acc: 0.3179\n",
      "Epoch 6/10\n",
      "1562/1562 [==============================] - 669s 428ms/step - loss: 1.8848 - acc: 0.3211 - val_loss: 1.8554 - val_acc: 0.3479\n",
      "Epoch 7/10\n",
      "1562/1562 [==============================] - 671s 429ms/step - loss: 1.8188 - acc: 0.3462 - val_loss: 1.8077 - val_acc: 0.3663\n",
      "Epoch 8/10\n",
      "1562/1562 [==============================] - 669s 428ms/step - loss: 1.7565 - acc: 0.3707 - val_loss: 1.7488 - val_acc: 0.3755\n",
      "Epoch 9/10\n",
      "1562/1562 [==============================] - 667s 427ms/step - loss: 1.7086 - acc: 0.3868 - val_loss: 1.7060 - val_acc: 0.3962\n",
      "Epoch 10/10\n",
      "1562/1562 [==============================] - 667s 427ms/step - loss: 1.6743 - acc: 0.4024 - val_loss: 1.7262 - val_acc: 0.3951\n"
     ]
    },
    {
     "data": {
      "text/plain": [
       "<keras.callbacks.History at 0x18220ee0f0>"
      ]
     },
     "execution_count": 34,
     "metadata": {},
     "output_type": "execute_result"
    }
   ],
   "source": [
    "model = build_model()\n",
    "\n",
    "print(model.summary())\n",
    "\n",
    "model.fit_generator(\n",
    "        train_generator,\n",
    "        steps_per_epoch=len(x_train) // batch_size,\n",
    "        epochs=epochs,callbacks=callbacks_list,\n",
    "        validation_data=validation_generator,\n",
    "        validation_steps=len(x_test) // batch_size)"
   ]
  },
  {
   "cell_type": "code",
   "execution_count": 35,
   "metadata": {},
   "outputs": [
    {
     "name": "stdout",
     "output_type": "stream",
     "text": [
      "\n",
      " Test accuracy: 0.2698\n"
     ]
    }
   ],
   "source": [
    "score = model.evaluate(x_test, y_test, verbose=0)\n",
    "print('\\n', 'Test accuracy:', score[1])"
   ]
  },
  {
   "cell_type": "code",
   "execution_count": 36,
   "metadata": {},
   "outputs": [
    {
     "name": "stdout",
     "output_type": "stream",
     "text": [
      "Train accuracy: 0.27044\n"
     ]
    }
   ],
   "source": [
    "score = model.evaluate(x_train, y_train, verbose=0)\n",
    "print('Train accuracy:', score[1])"
   ]
  },
  {
   "cell_type": "code",
   "execution_count": null,
   "metadata": {
    "collapsed": true
   },
   "outputs": [],
   "source": []
  }
 ],
 "metadata": {
  "kernelspec": {
   "display_name": "Python 3",
   "language": "python",
   "name": "python3"
  },
  "language_info": {
   "codemirror_mode": {
    "name": "ipython",
    "version": 3
   },
   "file_extension": ".py",
   "mimetype": "text/x-python",
   "name": "python",
   "nbconvert_exporter": "python",
   "pygments_lexer": "ipython3",
   "version": "3.6.2"
  }
 },
 "nbformat": 4,
 "nbformat_minor": 2
}
