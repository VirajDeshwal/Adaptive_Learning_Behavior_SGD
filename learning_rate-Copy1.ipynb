{
 "cells": [
  {
   "cell_type": "code",
   "execution_count": null,
   "metadata": {},
   "outputs": [],
   "source": [
    "import numpy as np\n",
    "import math\n",
    "\n",
    "import keras\n",
    "#import keras.backend as K\n",
    "from keras.datasets import cifar10\n",
    "from keras.models import Model\n",
    "from keras.layers import Input\n",
    "from keras.layers import Dense, Flatten\n",
    "from keras.layers import Conv2D, MaxPooling2D\n",
    "from keras.layers import Dropout\n",
    "from keras.optimizers import SGD\n",
    "from keras.preprocessing.image import ImageDataGenerator\n",
    "from keras.utils import np_utils\n",
    "from keras.callbacks import LearningRateScheduler"
   ]
  },
  {
   "cell_type": "code",
   "execution_count": null,
   "metadata": {
    "collapsed": true
   },
   "outputs": [],
   "source": [
    "batch_size = 32 \n",
    "num_classes = 10\n",
    "epochs = 100\n",
    "\n",
    "(x_train, y_train), (x_test, y_test) = cifar10.load_data() \n",
    "#breaking Training set into Training and Validation set\n",
    "(x_train, x_valid) = x_train[5000:], x_train[:5000]\n",
    "(y_train, y_valid) = y_train[5000:], y_train[:5000]\n",
    "\n",
    "y_train = np_utils.to_categorical(y_train, num_classes)\n",
    "y_test = np_utils.to_categorical(y_test, num_classes)\n",
    "y_valid = keras.utils.to_categorical(y_valid, num_classes)\n",
    "x_train = x_train.astype('float32')/255\n",
    "x_test = x_test.astype('float32')/255"
   ]
  },
  {
   "cell_type": "code",
   "execution_count": null,
   "metadata": {
    "collapsed": true
   },
   "outputs": [],
   "source": [
    "# create and configure augmented image generator\n",
    "datagen_train = ImageDataGenerator(\n",
    "        rescale=1./255,\n",
    "        shear_range=0.2,\n",
    "        zoom_range=0.2,\n",
    "        horizontal_flip=True)\n",
    "\n",
    "# create and configure augmented image generator\n",
    "datagen_valid = ImageDataGenerator(\n",
    "    width_shift_range=0.1,  # randomly shift images horizontally (10% of total width)\n",
    "    height_shift_range=0.1,  # randomly shift images vertically (10% of total height)\n",
    "    horizontal_flip=True) # randomly flip images horizontally\n",
    "\n",
    "# fit augmented image generator on data\n",
    "datagen_train.fit(x_train)\n",
    "datagen_valid.fit(x_valid)"
   ]
  },
  {
   "cell_type": "code",
   "execution_count": null,
   "metadata": {
    "collapsed": true
   },
   "outputs": [],
   "source": [
    "def build_model():\n",
    "    net_input = Input(shape=x_train.shape[1:])\n",
    "    \n",
    "    net = Conv2D(32, (3, 3), padding='same', activation='relu')(net_input)\n",
    "    net = Dropout(0.2)(net)\n",
    "    \n",
    "    net = Conv2D(32,(3,3),padding='same', activation='relu')(net)\n",
    "    net = MaxPooling2D(pool_size=(2,2))(net)\n",
    " \n",
    "    net = Conv2D(64,(3,3),padding='same',activation='relu')(net)\n",
    "    net = Dropout(0.2)(net)\n",
    " \n",
    "    net = Conv2D(64,(3,3),padding='same',activation='relu')(net)\n",
    "    net = MaxPooling2D(pool_size=(2,2))(net)\n",
    " \n",
    "    net = Conv2D(128,(3,3),padding='same',activation='relu')(net)\n",
    "    net = Dropout(0.2)(net)\n",
    " \n",
    "    net = Conv2D(128,(3,3),padding='same',activation='relu')(net)\n",
    "    net = MaxPooling2D(pool_size=(2,2))(net)\n",
    "    \n",
    "    net = Flatten(name='flatten')(net) \n",
    "    net = Dense(1024, activation='relu')(net)\n",
    "    net = Dense(512, activation='relu')(net)\n",
    "    net = Dense(256, activation='relu')(net)\n",
    "    softmax_output = Dense(num_classes, activation='softmax')(net)\n",
    "\n",
    "    model = Model(net_input, softmax_output)\n",
    "    \n",
    "    model.compile(optimizer=SGD(lr=0.0, momentum=0.9, nesterov=True, decay=0.0), loss='categorical_crossentropy', metrics=['accuracy'])\n",
    "    \n",
    "    \n",
    "    return model"
   ]
  },
  {
   "cell_type": "code",
   "execution_count": null,
   "metadata": {
    "collapsed": true
   },
   "outputs": [],
   "source": [
    "\n",
    "def decay_drop(epcoh):\n",
    "    initial_lrate =0.01\n",
    "    drop = 0.001\n",
    "    epoch_drop = 5.0\n",
    "    lrate = initial_lrate*math.pow(drop, math.floor((1+epochs)/epoch_drop))\n",
    "    return lrate"
   ]
  },
  {
   "cell_type": "code",
   "execution_count": null,
   "metadata": {
    "collapsed": true
   },
   "outputs": [],
   "source": [
    "lrate = LearningRateScheduler(decay_drop)\n",
    "callback_list= [lrate]"
   ]
  },
  {
   "cell_type": "code",
   "execution_count": null,
   "metadata": {},
   "outputs": [],
   "source": [
    "model = build_model()\n",
    "\n",
    "print(model.summary())\n"
   ]
  },
  {
   "cell_type": "code",
   "execution_count": null,
   "metadata": {},
   "outputs": [],
   "source": [
    "model.fit(x_train, y_train,callbacks= callback_list, epochs= epochs,validation_data=(x_valid,y_valid),steps_per_epoch=1000, batch_size=32)"
   ]
  },
  {
   "cell_type": "code",
   "execution_count": null,
   "metadata": {},
   "outputs": [],
   "source": [
    "\n",
    "#model.fit_generator(datagen_train.flow(x_train, y_train, batch_size=batch_size),\n",
    "#                    steps_per_epoch=x_train.shape[0] // batch_size,\n",
    "#                   epochs=epochs, verbose=2, callbacks=callback_list,\n",
    "#                   validation_data=datagen_valid.flow(x_valid, y_valid, batch_size=batch_size),\n",
    "#                   validation_steps=x_valid.shape[0] // batch_size)"
   ]
  },
  {
   "cell_type": "code",
   "execution_count": null,
   "metadata": {
    "collapsed": true
   },
   "outputs": [],
   "source": [
    "# evaluate and print test accuracy\n",
    "score = model.evaluate(x_test, y_test, verbose=0)\n",
    "print('\\n', 'Test accuracy:', score[1])"
   ]
  },
  {
   "cell_type": "code",
   "execution_count": null,
   "metadata": {
    "collapsed": true
   },
   "outputs": [],
   "source": []
  }
 ],
 "metadata": {
  "kernelspec": {
   "display_name": "Python 3",
   "language": "python",
   "name": "python3"
  },
  "language_info": {
   "codemirror_mode": {
    "name": "ipython",
    "version": 3
   },
   "file_extension": ".py",
   "mimetype": "text/x-python",
   "name": "python",
   "nbconvert_exporter": "python",
   "pygments_lexer": "ipython3",
   "version": "3.6.2"
  }
 },
 "nbformat": 4,
 "nbformat_minor": 2
}
